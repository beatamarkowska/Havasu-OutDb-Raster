{
 "cells": [
  {
   "cell_type": "markdown",
   "id": "92647b86-0e18-4339-8ad1-99dc5c2fd48f",
   "metadata": {},
   "source": [
    "Load a large GeoTIFF file stored on S3 as out-db raster, and split it into smaller tiles.\n",
    "\n",
    "Run RS_Value using a DataFrame of points on a large out-db raster."
   ]
  },
  {
   "cell_type": "code",
   "execution_count": 1,
   "id": "4d165546-5c84-4ea2-839e-4eba00143a94",
   "metadata": {
    "execution": {
     "iopub.execute_input": "2025-05-02T17:19:29.863902Z",
     "iopub.status.busy": "2025-05-02T17:19:29.863697Z",
     "iopub.status.idle": "2025-05-02T17:19:30.313178Z",
     "shell.execute_reply": "2025-05-02T17:19:30.312812Z",
     "shell.execute_reply.started": "2025-05-02T17:19:29.863885Z"
    }
   },
   "outputs": [],
   "source": [
    "from pyspark.sql import SparkSession\n",
    "from pyspark.sql.functions import expr, col, lit\n",
    "from sedona.spark import *"
   ]
  },
  {
   "cell_type": "code",
   "execution_count": 2,
   "id": "4f1afd98-c8b3-43a0-819c-01371731d9cc",
   "metadata": {
    "execution": {
     "iopub.execute_input": "2025-05-02T17:19:56.456501Z",
     "iopub.status.busy": "2025-05-02T17:19:56.456186Z",
     "iopub.status.idle": "2025-05-02T17:20:22.717098Z",
     "shell.execute_reply": "2025-05-02T17:20:22.716676Z",
     "shell.execute_reply.started": "2025-05-02T17:19:56.456484Z"
    }
   },
   "outputs": [
    {
     "name": "stderr",
     "output_type": "stream",
     "text": [
      "Setting default log level to \"WARN\".\n",
      "To adjust logging level use sc.setLogLevel(newLevel). For SparkR, use setLogLevel(newLevel).\n",
      "                                                                                \r"
     ]
    }
   ],
   "source": [
    "config = SedonaContext.builder().appName('havasu-iceberg-outdb-raster-etl')\\\n",
    "    .config(\"spark.hadoop.fs.s3a.bucket.wherobots-examples.aws.credentials.provider\",\"org.apache.hadoop.fs.s3a.AnonymousAWSCredentialsProvider\")\\\n",
    "    .getOrCreate()\n",
    "sedona = SedonaContext.create(config)"
   ]
  },
  {
   "cell_type": "markdown",
   "id": "e71e0990-1d53-404c-a40d-eb5620532aa2",
   "metadata": {},
   "source": [
    "Load Raster"
   ]
  },
  {
   "cell_type": "code",
   "execution_count": 3,
   "id": "62b8778a-e18a-4202-9716-8a7277eac2cb",
   "metadata": {
    "execution": {
     "iopub.execute_input": "2025-05-02T17:20:40.107094Z",
     "iopub.status.busy": "2025-05-02T17:20:40.106433Z",
     "iopub.status.idle": "2025-05-02T17:20:41.140794Z",
     "shell.execute_reply": "2025-05-02T17:20:41.140452Z",
     "shell.execute_reply.started": "2025-05-02T17:20:40.107068Z"
    }
   },
   "outputs": [
    {
     "name": "stderr",
     "output_type": "stream",
     "text": [
      "[Stage 3:>                                                          (0 + 1) / 1]\r"
     ]
    },
    {
     "name": "stdout",
     "output_type": "stream",
     "text": [
      "+--------------------+\n",
      "|                rast|\n",
      "+--------------------+\n",
      "|LazyLoadOutDbGrid...|\n",
      "+--------------------+\n",
      "\n"
     ]
    },
    {
     "name": "stderr",
     "output_type": "stream",
     "text": [
      "                                                                                \r"
     ]
    }
   ],
   "source": [
    "raster_df = sedona.sql(\"SELECT RS_FromPath('s3://wherobots-examples/data/ppp_2020_1km_Aggregated.tif') as rast\")\n",
    "raster_df.show(5)"
   ]
  },
  {
   "cell_type": "code",
   "execution_count": 4,
   "id": "b7420c7e-6d41-4432-a43c-851da67824c2",
   "metadata": {
    "execution": {
     "iopub.execute_input": "2025-05-02T17:20:55.188328Z",
     "iopub.status.busy": "2025-05-02T17:20:55.187991Z",
     "iopub.status.idle": "2025-05-02T17:21:04.939512Z",
     "shell.execute_reply": "2025-05-02T17:21:04.938897Z",
     "shell.execute_reply.started": "2025-05-02T17:20:55.188305Z"
    }
   },
   "outputs": [
    {
     "name": "stderr",
     "output_type": "stream",
     "text": [
      "                                                                                \r"
     ]
    }
   ],
   "source": [
    "sedona.sql(\"CREATE NAMESPACE IF NOT EXISTS wherobots.test_db\")\n",
    "sedona.sql(\"DROP TABLE IF EXISTS wherobots.test_db.world_pop\")\n",
    "raster_df.writeTo(\"wherobots.test_db.world_pop\").create()"
   ]
  },
  {
   "cell_type": "code",
   "execution_count": 5,
   "id": "ed4760fa-493f-482d-ac80-1b765e0f5fd7",
   "metadata": {
    "execution": {
     "iopub.execute_input": "2025-05-02T17:21:07.634558Z",
     "iopub.status.busy": "2025-05-02T17:21:07.634362Z",
     "iopub.status.idle": "2025-05-02T17:21:11.264863Z",
     "shell.execute_reply": "2025-05-02T17:21:11.264142Z",
     "shell.execute_reply.started": "2025-05-02T17:21:07.634544Z"
    }
   },
   "outputs": [
    {
     "name": "stderr",
     "output_type": "stream",
     "text": [
      "[Stage 7:=======================================================> (47 + 1) / 48]\r"
     ]
    },
    {
     "name": "stdout",
     "output_type": "stream",
     "text": [
      "+-----------------------------------------------------------------------------------------------------------+\n",
      "|meta                                                                                                       |\n",
      "+-----------------------------------------------------------------------------------------------------------+\n",
      "|{-180.001249265, 83.99958319871001, 43200, 18720, 0.0083333333, -0.0083333333, 0.0, 0.0, 4326, 1, 256, 256}|\n",
      "+-----------------------------------------------------------------------------------------------------------+\n",
      "\n"
     ]
    },
    {
     "name": "stderr",
     "output_type": "stream",
     "text": [
      "                                                                                \r"
     ]
    }
   ],
   "source": [
    "sedona.sql(\"SELECT RS_Metadata(rast) meta FROM wherobots.test_db.world_pop\").show(5, False)"
   ]
  },
  {
   "cell_type": "markdown",
   "id": "a4bc5914-92aa-4fef-9746-4110b42755b1",
   "metadata": {},
   "source": [
    "Split raster into tiles\n",
    "Large rasters may not be suitable for performing raster processing tasks that reads all the pixel data. WherobotsDB provides RS_TileExplode function for splitting the large raster into smaller tiles. When the input raster is an out-db raster, the generated tiles are out-db rasters referencing different parts of the out-db raster file. This is a pure geo-referencing metadata operation so this is very fast.\n",
    "\n",
    "The tiles generated by RS_TileExplode are within their original partition, so all the tiles are within one partition because the original DataFrame has only one row. This dataframe needs to be repartitioned to distribute the tiles to multiple executors, otherwise future processing on these tiles won't be parallelised."
   ]
  },
  {
   "cell_type": "code",
   "execution_count": 6,
   "id": "ec259521-688f-46f6-b4d1-6b0e189121e1",
   "metadata": {
    "execution": {
     "iopub.execute_input": "2025-05-02T17:22:16.313669Z",
     "iopub.status.busy": "2025-05-02T17:22:16.313429Z",
     "iopub.status.idle": "2025-05-02T17:22:18.900261Z",
     "shell.execute_reply": "2025-05-02T17:22:18.899726Z",
     "shell.execute_reply.started": "2025-05-02T17:22:16.313654Z"
    }
   },
   "outputs": [
    {
     "name": "stderr",
     "output_type": "stream",
     "text": [
      "[Stage 8:>                                                          (0 + 1) / 1]\r"
     ]
    },
    {
     "name": "stdout",
     "output_type": "stream",
     "text": [
      "+---+---+--------------------+\n",
      "|  x|  y|                tile|\n",
      "+---+---+--------------------+\n",
      "|150| 55|OutDbGridCoverage...|\n",
      "|139| 37|OutDbGridCoverage...|\n",
      "|146| 31|OutDbGridCoverage...|\n",
      "| 31| 14|OutDbGridCoverage...|\n",
      "|131|  2|OutDbGridCoverage...|\n",
      "+---+---+--------------------+\n",
      "only showing top 5 rows\n",
      "\n"
     ]
    },
    {
     "name": "stderr",
     "output_type": "stream",
     "text": [
      "                                                                                \r"
     ]
    }
   ],
   "source": [
    "tile_df = sedona.sql(\"SELECT RS_TileExplode(rast, 256, 256) AS (x, y, tile) FROM wherobots.test_db.world_pop\").repartition(16)\n",
    "tile_df.show(5)"
   ]
  },
  {
   "cell_type": "markdown",
   "id": "f1a6fc51-5285-4925-84ed-5c582a785061",
   "metadata": {},
   "source": [
    "Load raster as tiles"
   ]
  },
  {
   "cell_type": "code",
   "execution_count": 7,
   "id": "6606da43-2061-4992-aaa7-02b9eb2dfb7c",
   "metadata": {
    "execution": {
     "iopub.execute_input": "2025-05-02T17:23:32.137979Z",
     "iopub.status.busy": "2025-05-02T17:23:32.137494Z",
     "iopub.status.idle": "2025-05-02T17:23:33.397414Z",
     "shell.execute_reply": "2025-05-02T17:23:33.396903Z",
     "shell.execute_reply.started": "2025-05-02T17:23:32.137956Z"
    }
   },
   "outputs": [
    {
     "name": "stderr",
     "output_type": "stream",
     "text": [
      "                                                                                \r"
     ]
    },
    {
     "name": "stdout",
     "output_type": "stream",
     "text": [
      "+--------------------+---+---+--------------------+\n",
      "|                rast|  x|  y|                name|\n",
      "+--------------------+---+---+--------------------+\n",
      "|OutDbGridCoverage...| 39| 66|ppp_2020_1km_Aggr...|\n",
      "|OutDbGridCoverage...| 58| 58|ppp_2020_1km_Aggr...|\n",
      "|OutDbGridCoverage...| 73| 30|ppp_2020_1km_Aggr...|\n",
      "|OutDbGridCoverage...|  3| 49|ppp_2020_1km_Aggr...|\n",
      "|OutDbGridCoverage...|139| 16|ppp_2020_1km_Aggr...|\n",
      "+--------------------+---+---+--------------------+\n",
      "only showing top 5 rows\n",
      "\n"
     ]
    }
   ],
   "source": [
    "raster_df_tiled = sedona.read.format(\"raster\").option(\"tileWidth\", \"256\").option(\"tileHeight\", \"256\").load(\"s3://wherobots-examples/data/ppp_2020_1km_Aggregated.tif\")\n",
    "raster_df_tiled.show(5)"
   ]
  },
  {
   "cell_type": "markdown",
   "id": "faac75eb-132b-4225-b8b9-6a6a14550028",
   "metadata": {},
   "source": [
    "Rename the raster column rast as tile before saving the DataFrame into Havasu table."
   ]
  },
  {
   "cell_type": "code",
   "execution_count": 8,
   "id": "5279e451-8d74-4e00-821a-c28f6e4e00ff",
   "metadata": {
    "execution": {
     "iopub.execute_input": "2025-05-02T17:24:11.595132Z",
     "iopub.status.busy": "2025-05-02T17:24:11.594918Z",
     "iopub.status.idle": "2025-05-02T17:24:11.613925Z",
     "shell.execute_reply": "2025-05-02T17:24:11.613475Z",
     "shell.execute_reply.started": "2025-05-02T17:24:11.595115Z"
    }
   },
   "outputs": [],
   "source": [
    "tile_df = raster_df_tiled.select(col(\"rast\").alias(\"tile\"), \"x\", \"y\")"
   ]
  },
  {
   "cell_type": "markdown",
   "id": "63c1413f-d140-4132-8e6f-760a05418180",
   "metadata": {},
   "source": [
    "Saving as out-db rasters"
   ]
  },
  {
   "cell_type": "code",
   "execution_count": 9,
   "id": "eb6d247f-ba00-4614-8dbf-36695ff27df2",
   "metadata": {
    "execution": {
     "iopub.execute_input": "2025-05-02T17:24:44.377623Z",
     "iopub.status.busy": "2025-05-02T17:24:44.377384Z",
     "iopub.status.idle": "2025-05-02T17:24:48.383258Z",
     "shell.execute_reply": "2025-05-02T17:24:48.382498Z",
     "shell.execute_reply.started": "2025-05-02T17:24:44.377607Z"
    }
   },
   "outputs": [
    {
     "name": "stderr",
     "output_type": "stream",
     "text": [
      "                                                                                \r"
     ]
    }
   ],
   "source": [
    "sedona.sql(\"DROP TABLE IF EXISTS wherobots.test_db.world_pop_tiles\")\n",
    "tile_df.writeTo(\"wherobots.test_db.world_pop_tiles\").create()"
   ]
  },
  {
   "cell_type": "code",
   "execution_count": 10,
   "id": "de266731-c1c4-4199-b2ac-9dab807f298b",
   "metadata": {
    "execution": {
     "iopub.execute_input": "2025-05-02T17:24:56.831812Z",
     "iopub.status.busy": "2025-05-02T17:24:56.831551Z",
     "iopub.status.idle": "2025-05-02T17:24:57.453257Z",
     "shell.execute_reply": "2025-05-02T17:24:57.452599Z",
     "shell.execute_reply.started": "2025-05-02T17:24:56.831789Z"
    }
   },
   "outputs": [
    {
     "data": {
      "text/plain": [
       "12506"
      ]
     },
     "execution_count": 10,
     "metadata": {},
     "output_type": "execute_result"
    }
   ],
   "source": [
    "sedona.table(\"wherobots.test_db.world_pop_tiles\").count()"
   ]
  },
  {
   "cell_type": "markdown",
   "id": "9913fc42-806d-4984-8c83-4490b563bb2d",
   "metadata": {},
   "source": [
    "Saving tiles as in-db rasters\n",
    "WherobotsDB provides an RS_AsInDb function for converting out-db raster as in-db raster. \n",
    "It needs to fetch all the band data from the raster file.\n",
    "Manually repartition the out-db tile dataset to run this convertion with high parallelism."
   ]
  },
  {
   "cell_type": "code",
   "execution_count": 11,
   "id": "8bb2dc53-f03c-486a-9d40-21c4455bbc95",
   "metadata": {
    "execution": {
     "iopub.execute_input": "2025-05-02T17:26:12.794662Z",
     "iopub.status.busy": "2025-05-02T17:26:12.794469Z",
     "iopub.status.idle": "2025-05-02T17:26:15.898552Z",
     "shell.execute_reply": "2025-05-02T17:26:15.897932Z",
     "shell.execute_reply.started": "2025-05-02T17:26:12.794648Z"
    }
   },
   "outputs": [
    {
     "name": "stderr",
     "output_type": "stream",
     "text": [
      "[Stage 28:>                                                         (0 + 1) / 1]\r"
     ]
    },
    {
     "name": "stdout",
     "output_type": "stream",
     "text": [
      "+--------------------+---+---+\n",
      "|                tile|  x|  y|\n",
      "+--------------------+---+---+\n",
      "|GridCoverage2D[\"g...| 63| 72|\n",
      "|GridCoverage2D[\"g...| 82| 72|\n",
      "|GridCoverage2D[\"g...|113| 26|\n",
      "|GridCoverage2D[\"g...| 78| 73|\n",
      "|GridCoverage2D[\"g...| 18| 62|\n",
      "+--------------------+---+---+\n",
      "only showing top 5 rows\n",
      "\n"
     ]
    },
    {
     "name": "stderr",
     "output_type": "stream",
     "text": [
      "                                                                                \r"
     ]
    }
   ],
   "source": [
    "indb_tile_df = tile_df.withColumn(\"tile\", expr(\"RS_AsInDb(tile)\"))\n",
    "indb_tile_df.show(5)"
   ]
  },
  {
   "cell_type": "code",
   "execution_count": 12,
   "id": "6568e8a5-d064-45d2-9467-5a969de79956",
   "metadata": {
    "execution": {
     "iopub.execute_input": "2025-05-02T17:26:27.249486Z",
     "iopub.status.busy": "2025-05-02T17:26:27.249291Z",
     "iopub.status.idle": "2025-05-02T17:27:02.450692Z",
     "shell.execute_reply": "2025-05-02T17:27:02.450279Z",
     "shell.execute_reply.started": "2025-05-02T17:26:27.249471Z"
    }
   },
   "outputs": [
    {
     "name": "stderr",
     "output_type": "stream",
     "text": [
      "                                                                                \r"
     ]
    }
   ],
   "source": [
    "sedona.sql(\"DROP TABLE IF EXISTS wherobots.test_db.world_pop_indb_tiles\")\n",
    "indb_tile_df.writeTo(\"wherobots.test_db.world_pop_indb_tiles\").create()"
   ]
  },
  {
   "cell_type": "code",
   "execution_count": 13,
   "id": "90ff03d6-0db4-4cf9-a1fd-11daf333f363",
   "metadata": {
    "execution": {
     "iopub.execute_input": "2025-05-02T17:27:05.858026Z",
     "iopub.status.busy": "2025-05-02T17:27:05.857823Z",
     "iopub.status.idle": "2025-05-02T17:27:06.312324Z",
     "shell.execute_reply": "2025-05-02T17:27:06.310390Z",
     "shell.execute_reply.started": "2025-05-02T17:27:05.858011Z"
    }
   },
   "outputs": [
    {
     "data": {
      "text/plain": [
       "12506"
      ]
     },
     "execution_count": 13,
     "metadata": {},
     "output_type": "execute_result"
    }
   ],
   "source": [
    "sedona.table(\"wherobots.test_db.world_pop_indb_tiles\").count()"
   ]
  },
  {
   "cell_type": "markdown",
   "id": "441e4b94-3270-4ffa-8b1a-4ee68cb861c6",
   "metadata": {},
   "source": [
    "Visualize the tile boundaries on a map"
   ]
  },
  {
   "cell_type": "code",
   "execution_count": 14,
   "id": "c76f78bf-5f43-4fea-ba5b-2452c72ca02a",
   "metadata": {
    "execution": {
     "iopub.execute_input": "2025-05-02T17:27:42.967313Z",
     "iopub.status.busy": "2025-05-02T17:27:42.966764Z",
     "iopub.status.idle": "2025-05-02T17:27:50.871671Z",
     "shell.execute_reply": "2025-05-02T17:27:50.871109Z",
     "shell.execute_reply.started": "2025-05-02T17:27:42.967290Z"
    }
   },
   "outputs": [
    {
     "name": "stderr",
     "output_type": "stream",
     "text": [
      "                                                                                \r"
     ]
    },
    {
     "name": "stdout",
     "output_type": "stream",
     "text": [
      "+--------------------+---+---+\n",
      "|                tile|  x|  y|\n",
      "+--------------------+---+---+\n",
      "|GridCoverage2D[\"h...|100| 61|\n",
      "|GridCoverage2D[\"h...|128| 30|\n",
      "|GridCoverage2D[\"h...| 77|  8|\n",
      "|GridCoverage2D[\"h...|132| 22|\n",
      "|GridCoverage2D[\"h...| 15| 60|\n",
      "|GridCoverage2D[\"h...| 38| 16|\n",
      "|GridCoverage2D[\"h...| 33| 66|\n",
      "|GridCoverage2D[\"h...| 58| 46|\n",
      "|GridCoverage2D[\"h...|163|  3|\n",
      "|GridCoverage2D[\"h...| 64| 48|\n",
      "|GridCoverage2D[\"h...|140| 53|\n",
      "|GridCoverage2D[\"h...| 38| 39|\n",
      "|GridCoverage2D[\"h...| 90| 62|\n",
      "|GridCoverage2D[\"h...| 64| 23|\n",
      "|GridCoverage2D[\"h...|137| 12|\n",
      "|GridCoverage2D[\"h...| 15| 41|\n",
      "|GridCoverage2D[\"h...|133|  2|\n",
      "|GridCoverage2D[\"h...| 21|  2|\n",
      "|GridCoverage2D[\"h...| 53| 38|\n",
      "|GridCoverage2D[\"h...| 55|  9|\n",
      "+--------------------+---+---+\n",
      "only showing top 20 rows\n",
      "\n",
      "User Guide: https://docs.kepler.gl/docs/keplergl-jupyter\n"
     ]
    },
    {
     "name": "stderr",
     "output_type": "stream",
     "text": [
      "                                                                                \r"
     ]
    },
    {
     "data": {
      "application/vnd.jupyter.widget-view+json": {
       "model_id": "746e9f7c181a44baba8f17b00a38dacb",
       "version_major": 2,
       "version_minor": 0
      },
      "text/plain": [
       "KeplerGl(data={'tiles': {'index': [0, 1, 2, 3, 4, 5, 6, 7, 8, 9, 10, 11, 12, 13, 14, 15, 16, 17, 18, 19, 20, 2…"
      ]
     },
     "execution_count": 14,
     "metadata": {},
     "output_type": "execute_result"
    }
   ],
   "source": [
    "sedona.table(\"wherobots.test_db.world_pop_indb_tiles\").show()\n",
    "tiledMap = SedonaKepler.create_map()\n",
    "SedonaKepler.add_df(tiledMap, sedona.table(\"wherobots.test_db.world_pop_indb_tiles\").withColumn(\"tile\", expr(\"RS_Envelope(tile)\")), name=\"tiles\")\n",
    "tiledMap"
   ]
  },
  {
   "cell_type": "markdown",
   "id": "7d54fbeb-be12-4bab-9bf9-630e048e3fbc",
   "metadata": {},
   "source": [
    "Population of POI\n",
    "Join the POI dataset with the population dataset to evaluate the population of POIs."
   ]
  },
  {
   "cell_type": "markdown",
   "id": "1aeed87f-c130-486b-943d-b021ba8f2585",
   "metadata": {},
   "source": [
    "Load POI Dataset"
   ]
  },
  {
   "cell_type": "code",
   "execution_count": 15,
   "id": "8a7abdaf-0e3a-424f-be22-0d33f1bb294c",
   "metadata": {
    "execution": {
     "iopub.execute_input": "2025-05-02T17:29:22.618403Z",
     "iopub.status.busy": "2025-05-02T17:29:22.618200Z",
     "iopub.status.idle": "2025-05-02T17:29:23.707720Z",
     "shell.execute_reply": "2025-05-02T17:29:23.707086Z",
     "shell.execute_reply.started": "2025-05-02T17:29:22.618389Z"
    }
   },
   "outputs": [
    {
     "name": "stdout",
     "output_type": "stream",
     "text": [
      "+--------------------+---------+----------+-----+----------------+------+--------+--------+---------+--------------------+---------+\n",
      "|            geometry|scalerank|featurecla| type|            name|abbrev|location|gps_code|iata_code|           wikipedia|natlscale|\n",
      "+--------------------+---------+----------+-----+----------------+------+--------+--------+---------+--------------------+---------+\n",
      "|POINT (113.935016...|        2|   Airport|major| Hong Kong Int'l|   HKG|terminal|    VHHH|      HKG|http://en.wikiped...|  150.000|\n",
      "|POINT (121.231370...|        2|   Airport|major|         Taoyuan|   TPE|terminal|    RCTP|      TPE|http://en.wikiped...|  150.000|\n",
      "|POINT (4.76437693...|        2|   Airport|major|        Schiphol|   AMS|terminal|    EHAM|      AMS|http://en.wikiped...|  150.000|\n",
      "|POINT (103.986413...|        2|   Airport|major|Singapore Changi|   SIN|terminal|    WSSS|      SIN|http://en.wikiped...|  150.000|\n",
      "|POINT (-0.4531566...|        2|   Airport|major| London Heathrow|   LHR| parking|    EGLL|      LHR|http://en.wikiped...|  150.000|\n",
      "+--------------------+---------+----------+-----+----------------+------+--------+--------+---------+--------------------+---------+\n",
      "only showing top 5 rows\n",
      "\n"
     ]
    }
   ],
   "source": [
    "spatialRdd = ShapefileReader.readToGeometryRDD(sedona.sparkContext, \"s3://wherobots-examples/data/ne_50m_airports\")\n",
    "poi_df = Adapter.toDf(spatialRdd, sedona)\n",
    "poi_df.show(5)"
   ]
  },
  {
   "cell_type": "markdown",
   "id": "bcc1105e-1325-4f17-a5ac-1dbf08333fb8",
   "metadata": {},
   "source": [
    "Joining POIs with out-db raster\n",
    "Cartesian join with the single row large out-db raster table, and evaluate the population value on each point."
   ]
  },
  {
   "cell_type": "code",
   "execution_count": 16,
   "id": "246b5f98-d3d3-4302-93a3-24a254fce12d",
   "metadata": {
    "execution": {
     "iopub.execute_input": "2025-05-02T17:30:34.469075Z",
     "iopub.status.busy": "2025-05-02T17:30:34.468887Z",
     "iopub.status.idle": "2025-05-02T17:30:50.821091Z",
     "shell.execute_reply": "2025-05-02T17:30:50.820588Z",
     "shell.execute_reply.started": "2025-05-02T17:30:34.469062Z"
    }
   },
   "outputs": [
    {
     "name": "stderr",
     "output_type": "stream",
     "text": [
      "                                                                                \r"
     ]
    },
    {
     "name": "stdout",
     "output_type": "stream",
     "text": [
      "+--------------------+---------+----------+-----+----------------+------+--------+--------+---------+--------------------+---------+------------------+\n",
      "|            geometry|scalerank|featurecla| type|            name|abbrev|location|gps_code|iata_code|           wikipedia|natlscale|               pop|\n",
      "+--------------------+---------+----------+-----+----------------+------+--------+--------+---------+--------------------+---------+------------------+\n",
      "|POINT (113.935016...|        2|   Airport|major| Hong Kong Int'l|   HKG|terminal|    VHHH|      HKG|http://en.wikiped...|  150.000| 1627.572998046875|\n",
      "|POINT (121.231370...|        2|   Airport|major|         Taoyuan|   TPE|terminal|    RCTP|      TPE|http://en.wikiped...|  150.000|1459.4176025390625|\n",
      "|POINT (4.76437693...|        2|   Airport|major|        Schiphol|   AMS|terminal|    EHAM|      AMS|http://en.wikiped...|  150.000|1093.3812255859375|\n",
      "|POINT (103.986413...|        2|   Airport|major|Singapore Changi|   SIN|terminal|    WSSS|      SIN|http://en.wikiped...|  150.000| 275.9463195800781|\n",
      "|POINT (-0.4531566...|        2|   Airport|major| London Heathrow|   LHR| parking|    EGLL|      LHR|http://en.wikiped...|  150.000| 53.41670227050781|\n",
      "+--------------------+---------+----------+-----+----------------+------+--------+--------+---------+--------------------+---------+------------------+\n",
      "only showing top 5 rows\n",
      "\n"
     ]
    },
    {
     "name": "stderr",
     "output_type": "stream",
     "text": [
      "                                                                                \r"
     ]
    },
    {
     "data": {
      "text/plain": [
       "204"
      ]
     },
     "execution_count": 16,
     "metadata": {},
     "output_type": "execute_result"
    }
   ],
   "source": [
    "res_df = poi_df.join(sedona.table(\"wherobots.test_db.world_pop\")).withColumn(\"pop\", expr(\"RS_Value(rast, geometry)\")).drop(\"rast\")\n",
    "res_df.show(5)\n",
    "res_df.where(\"pop > 100\").count()"
   ]
  },
  {
   "cell_type": "markdown",
   "id": "03198c64-9784-4368-9dec-6101e4978437",
   "metadata": {},
   "source": [
    "Joining POIs with out-db tiles\n",
    "Spatial join using the POI and out-db raster tile dataset, and evaluates the population value on each point."
   ]
  },
  {
   "cell_type": "code",
   "execution_count": 17,
   "id": "d9aee06f-7488-4b13-99dd-cd47c502d5d4",
   "metadata": {
    "execution": {
     "iopub.execute_input": "2025-05-02T17:31:23.045924Z",
     "iopub.status.busy": "2025-05-02T17:31:23.045735Z",
     "iopub.status.idle": "2025-05-02T17:31:39.182570Z",
     "shell.execute_reply": "2025-05-02T17:31:39.182181Z",
     "shell.execute_reply.started": "2025-05-02T17:31:23.045910Z"
    }
   },
   "outputs": [
    {
     "name": "stderr",
     "output_type": "stream",
     "text": [
      "                                                                                \r"
     ]
    },
    {
     "name": "stdout",
     "output_type": "stream",
     "text": [
      "+--------------------+---------+----------+-----+----------------+------+--------+--------+---------+--------------------+---------+---+---+------------------+\n",
      "|            geometry|scalerank|featurecla| type|            name|abbrev|location|gps_code|iata_code|           wikipedia|natlscale|  x|  y|               pop|\n",
      "+--------------------+---------+----------+-----+----------------+------+--------+--------+---------+--------------------+---------+---+---+------------------+\n",
      "|POINT (113.935016...|        2|   Airport|major| Hong Kong Int'l|   HKG|terminal|    VHHH|      HKG|http://en.wikiped...|  150.000|137| 28| 1627.572998046875|\n",
      "|POINT (121.231370...|        2|   Airport|major|         Taoyuan|   TPE|terminal|    RCTP|      TPE|http://en.wikiped...|  150.000|141| 27|1459.4176025390625|\n",
      "|POINT (4.76437693...|        2|   Airport|major|        Schiphol|   AMS|terminal|    EHAM|      AMS|http://en.wikiped...|  150.000| 86| 14|1093.3812255859375|\n",
      "|POINT (103.986413...|        2|   Airport|major|Singapore Changi|   SIN|terminal|    WSSS|      SIN|http://en.wikiped...|  150.000|133| 38| 275.9463195800781|\n",
      "|POINT (-0.4531566...|        2|   Airport|major| London Heathrow|   LHR| parking|    EGLL|      LHR|http://en.wikiped...|  150.000| 84| 15| 53.41670227050781|\n",
      "+--------------------+---------+----------+-----+----------------+------+--------+--------+---------+--------------------+---------+---+---+------------------+\n",
      "only showing top 5 rows\n",
      "\n"
     ]
    },
    {
     "name": "stderr",
     "output_type": "stream",
     "text": [
      "                                                                                \r"
     ]
    },
    {
     "data": {
      "text/plain": [
       "204"
      ]
     },
     "execution_count": 17,
     "metadata": {},
     "output_type": "execute_result"
    }
   ],
   "source": [
    "res_df = poi_df.join(sedona.table(\"wherobots.test_db.world_pop_tiles\"), expr(\"RS_Intersects(tile, geometry)\")).withColumn(\"pop\", expr(\"RS_Value(tile, geometry)\")).drop(\"tile\")\n",
    "res_df.show(5)\n",
    "res_df.where(\"pop > 100\").count()"
   ]
  },
  {
   "cell_type": "markdown",
   "id": "c8f22925-45c8-411e-ad5c-2ebaf955e987",
   "metadata": {},
   "source": [
    "Joining POIs with in-db tiles"
   ]
  },
  {
   "cell_type": "code",
   "execution_count": null,
   "id": "8444811a-b1b8-44c8-b610-ef614e35b03b",
   "metadata": {},
   "outputs": [],
   "source": []
  }
 ],
 "metadata": {
  "kernelspec": {
   "display_name": "Python 3 (ipykernel)",
   "language": "python",
   "name": "python3"
  },
  "language_info": {
   "codemirror_mode": {
    "name": "ipython",
    "version": 3
   },
   "file_extension": ".py",
   "mimetype": "text/x-python",
   "name": "python",
   "nbconvert_exporter": "python",
   "pygments_lexer": "ipython3",
   "version": "3.11.12"
  }
 },
 "nbformat": 4,
 "nbformat_minor": 5
}
